{
 "cells": [
  {
   "cell_type": "code",
   "execution_count": 1,
   "id": "efda1a8b43ebdd12",
   "metadata": {
    "ExecuteTime": {
     "end_time": "2024-04-06T03:35:23.684824Z",
     "start_time": "2024-04-06T03:35:23.679499Z"
    },
    "collapsed": false
   },
   "outputs": [],
   "source": [
    "# !pip install deepmatch-torch"
   ]
  },
  {
   "cell_type": "code",
   "execution_count": 1,
   "id": "85a8e3b1-a13d-44ae-b9f6-3b37f4b0e48c",
   "metadata": {
    "ExecuteTime": {
     "end_time": "2024-04-06T03:35:23.885879Z",
     "start_time": "2024-04-06T03:35:23.685844Z"
    }
   },
   "outputs": [
    {
     "name": "stderr",
     "output_type": "stream",
     "text": [
      "2024-04-16 12:25:58.474735: I tensorflow/core/platform/cpu_feature_guard.cc:210] This TensorFlow binary is optimized to use available CPU instructions in performance-critical operations.\n",
      "To enable the following instructions: AVX2 AVX512F FMA, in other operations, rebuild TensorFlow with the appropriate compiler flags.\n",
      "2024-04-16 12:26:00.728980: W tensorflow/compiler/tf2tensorrt/utils/py_utils.cc:38] TF-TRT Warning: Could not find TensorRT\n"
     ]
    },
    {
     "name": "stdout",
     "output_type": "stream",
     "text": [
      "[2024-04-16 12:26:03,265] [INFO] [real_accelerator.py:158:get_accelerator] Setting ds_accelerator to cuda (auto detect)\n"
     ]
    }
   ],
   "source": [
    "import numpy as np\n",
    "import pandas as pd  \n",
    "import torch\n",
    "from tqdm import tqdm  \n",
    "from collections import defaultdict  \n",
    "import os, math, warnings, math, pickle\n",
    "# os.environ['MKL_SERVICE_FORCE_INTEL'] = '1'\n",
    "# os.environ['CUDA_LAUNCH_BLOCKING'] = '1'\n",
    "# os.environ['TRITON_PTXAS_PATH'] = \"/usr/local/cuda-11.5/bin/ptxas\"\n",
    "from tqdm import tqdm\n",
    "import faiss\n",
    "import collections\n",
    "import random\n",
    "from sklearn.preprocessing import MinMaxScaler\n",
    "from sklearn.preprocessing import LabelEncoder\n",
    "from datetime import datetime\n",
    "# import deepctr_torch as deepctr\n",
    "from deepctr_torch.inputs import SparseFeat, VarLenSparseFeat\n",
    "from sklearn.preprocessing import LabelEncoder\n",
    "\n",
    "from SourceCode.torch_youtubednn import YouTubeDNN\n",
    "# from \n",
    "# import torch.nn.utils.rnn.pad_sequence as pad_sequence\n",
    "# https://github.com/bbruceyuan/DeepMatch-Torch\n",
    "# from deepmatch.models import *\n",
    "# from deepmatch.utils import sampledsoftmaxloss\n",
    "warnings.filterwarnings('ignore')\n"
   ]
  },
  {
   "cell_type": "code",
   "execution_count": 2,
   "id": "f093c9ef-2d32-49f3-8d38-6e3ed59db7a4",
   "metadata": {},
   "outputs": [],
   "source": [
    "\n",
    "# !pip install tensorflow\n",
    "# !pip uninstall deepctr -y\n",
    "# !nvidia-smi\n",
    "# !python -V"
   ]
  },
  {
   "cell_type": "code",
   "execution_count": 3,
   "id": "3963ff72-4c17-4b5d-a4af-5b267c7a71e0",
   "metadata": {},
   "outputs": [],
   "source": [
    "# prefix = os.path.join(os.getcwd(),'RecSys/NewsRec/')\n",
    "# data_path = os.path.join(prefix,'data/')\n",
    "# save_path = os.path.join(prefix,'temp_results/')\n",
    "data_path = './data/'\n",
    "save_path = './temp_results/'\n",
    "# 做召回评估的一个标志, 如果不进行评估就是直接使用全量数据进行召回\n",
    "metric_recall = True\n",
    "if not os.path.exists(save_path):\n",
    "    os.makedirs(save_path)"
   ]
  },
  {
   "cell_type": "code",
   "execution_count": 4,
   "id": "69dcbdd9-24e8-47bf-bc07-eec93d02f5f8",
   "metadata": {
    "ExecuteTime": {
     "start_time": "2024-04-06T03:35:23.890380Z"
    }
   },
   "outputs": [],
   "source": [
    "# debug模式： 从训练集中划出一部分数据来调试代码\n",
    "def seed_everything(seed=1):\n",
    "    random.seed(seed)\n",
    "    np.random.seed(seed)\n",
    "    torch.manual_seed(seed)\n",
    "    torch.cuda.manual_seed(seed)\n",
    "    torch.cuda.manual_seed_all(seed)\n",
    "    torch.backends.cudnn.deterministic = True\n",
    "    torch.backends.cudnn.benchmark = False\n",
    "seed_everything()\n",
    "    \n",
    "def get_all_click_sample(data_path, sample_nums=50000):\n",
    "    \"\"\"\n",
    "        训练集中采样一部分数据调试\n",
    "        data_path: 原数据的存储路径\n",
    "        sample_nums: 采样数目（这里由于机器的内存限制，可以采样用户做）\n",
    "    \"\"\"\n",
    "    all_click = pd.read_csv(data_path + 'train_click_log.csv')\n",
    "    all_user_ids = all_click.user_id.unique()\n",
    "\n",
    "    sample_user_ids = np.random.choice(all_user_ids, size=sample_nums, replace=False) \n",
    "    all_click = all_click[all_click['user_id'].isin(sample_user_ids)]\n",
    "    \n",
    "    all_click = all_click.drop_duplicates((['user_id', 'click_article_id', 'click_timestamp']))\n",
    "    return all_click\n",
    "\n",
    "# 读取点击数据，这里分成线上和线下，如果是为了获取线上提交结果应该讲测试集中的点击数据合并到总的数据中\n",
    "# 如果是为了线下验证模型的有效性或者特征的有效性，可以只使用训练集\n",
    "def get_all_click_df(data_path='./data/', offline=True):\n",
    "    if offline:\n",
    "        all_click = pd.read_csv(data_path + 'train_click_log.csv')\n",
    "    else:\n",
    "        trn_click = pd.read_csv(data_path + 'train_click_log.csv')\n",
    "        tst_click = pd.read_csv(data_path + 'testA_click_log.csv')\n",
    "\n",
    "        all_click = trn_click.append(tst_click)\n",
    "    \n",
    "    all_click = all_click.drop_duplicates((['user_id', 'click_article_id', 'click_timestamp']))\n",
    "    return all_click\n"
   ]
  },
  {
   "cell_type": "code",
   "execution_count": 5,
   "id": "1a3d6582-f6e6-426d-b510-e3c72411d7a0",
   "metadata": {},
   "outputs": [],
   "source": [
    "# 读取文章的基本属性\n",
    "def get_item_info_df(data_path):\n",
    "    item_info_df = pd.read_csv(data_path + 'articles.csv')\n",
    "    \n",
    "    # 为了方便与训练集中的click_article_id拼接，需要把article_id修改成click_article_id\n",
    "    item_info_df = item_info_df.rename(columns={'article_id': 'click_article_id'})\n",
    "    \n",
    "    return item_info_df\n"
   ]
  },
  {
   "cell_type": "code",
   "execution_count": 6,
   "id": "987cdca3-2cd3-47ab-9c16-ad8c85b36746",
   "metadata": {
    "ExecuteTime": {
     "start_time": "2024-04-06T03:35:23.891381Z"
    }
   },
   "outputs": [],
   "source": [
    "# 读取文章的Embedding数据\n",
    "def get_item_emb_dict(data_path,resume=False):\n",
    "    if resume and os.path.exists(save_path + 'item_content_emb.pkl'):\n",
    "        with open(save_path + 'item_content_emb.pkl', 'rb') as file:\n",
    "            item_emb_dict = pickle.load(file)\n",
    "            return item_emb_dict\n",
    "    item_emb_df = pd.read_csv(data_path + 'articles_emb.csv')\n",
    "    \n",
    "    item_emb_cols = [x for x in item_emb_df.columns if 'emb' in x]\n",
    "    item_emb_np = np.ascontiguousarray(item_emb_df[item_emb_cols])\n",
    "    # 进行归一化\n",
    "    item_emb_np = item_emb_np / np.linalg.norm(item_emb_np, axis=1, keepdims=True)\n",
    "\n",
    "    item_emb_dict = dict(zip(item_emb_df['article_id'], item_emb_np))\n",
    "    pickle.dump(item_emb_dict, open(save_path + 'item_content_emb.pkl', 'wb'))\n",
    "    \n",
    "    return item_emb_dict\n"
   ]
  },
  {
   "cell_type": "code",
   "execution_count": 7,
   "id": "6db001d0-ae4e-4111-90cc-0d200c7196ab",
   "metadata": {
    "ExecuteTime": {
     "start_time": "2024-04-06T03:35:23.892382Z"
    }
   },
   "outputs": [],
   "source": [
    "max_min_scaler = lambda x : (x-np.min(x))/(np.max(x)-np.min(x))\n"
   ]
  },
  {
   "cell_type": "code",
   "execution_count": 8,
   "id": "fd1536c8-348e-4191-ba5c-c0638cfbf9b8",
   "metadata": {
    "ExecuteTime": {
     "start_time": "2024-04-06T03:35:23.893381Z"
    }
   },
   "outputs": [],
   "source": [
    "# 采样数据\n",
    "all_click_df = get_all_click_sample(data_path)\n",
    "\n",
    "# 全量训练集\n",
    "# all_click_df = get_all_click_df(offline=False)\n",
    "\n",
    "# 对时间戳进行归一化,用于在关联规则的时候计算权重\n",
    "all_click_df['click_timestamp'] = all_click_df[['click_timestamp']].apply(max_min_scaler)\n"
   ]
  },
  {
   "cell_type": "code",
   "execution_count": 9,
   "id": "bd4b6cd5-c865-43bc-ae9a-8b17c9fda78b",
   "metadata": {},
   "outputs": [
    {
     "name": "stdout",
     "output_type": "stream",
     "text": [
      "        click_article_id  category_id  created_at_ts  words_count\n",
      "0                      0            0  1513144419000          168\n",
      "1                      1            1  1405341936000          189\n",
      "2                      2            1  1408667706000          250\n",
      "3                      3            1  1408468313000          230\n",
      "4                      4            1  1407071171000          162\n",
      "...                  ...          ...            ...          ...\n",
      "364042            364042          460  1434034118000          144\n",
      "364043            364043          460  1434148472000          463\n",
      "364044            364044          460  1457974279000          177\n",
      "364045            364045          460  1515964737000          126\n",
      "364046            364046          460  1505811330000          479\n",
      "\n",
      "[364047 rows x 4 columns]\n"
     ]
    }
   ],
   "source": [
    "item_info_df = get_item_info_df(data_path)\n",
    "print(item_info_df)"
   ]
  },
  {
   "cell_type": "code",
   "execution_count": 10,
   "id": "83514f50-7950-4c25-886e-df521d42e262",
   "metadata": {
    "ExecuteTime": {
     "start_time": "2024-04-06T03:35:23.894381Z"
    }
   },
   "outputs": [],
   "source": [
    "item_emb_dict = get_item_emb_dict(data_path,resume=True)"
   ]
  },
  {
   "cell_type": "markdown",
   "id": "5f8be599-a053-4b8c-b51d-dc883ce84002",
   "metadata": {},
   "source": [
    "# 工具函数\n",
    "## 获取用户-文章-时间函数\n",
    "这个在基于关联规则的用户协同过滤的时候会用到"
   ]
  },
  {
   "cell_type": "code",
   "execution_count": 11,
   "id": "8f3e19ae-a975-415e-9736-4433de095474",
   "metadata": {
    "ExecuteTime": {
     "start_time": "2024-04-06T03:35:23.895381Z"
    }
   },
   "outputs": [],
   "source": [
    "# 根据点击时间获取用户的点击文章序列   {user1: {item1: time1, item2: time2..}...}\n",
    "def get_user_item_time(click_df):\n",
    "\n",
    "    click_df = click_df.sort_values('click_timestamp')  # 按时间排序\n",
    "    \n",
    "    def make_item_time_pair(df):\n",
    "        return list(zip(df['click_article_id'], df['click_timestamp']))\n",
    "    \n",
    "    user_item_time_df = click_df.groupby('user_id')[['click_article_id', 'click_timestamp']].apply(lambda x: make_item_time_pair(x))\\\n",
    "                                                            .reset_index().rename(columns={0: 'item_time_list'})\n",
    "    user_item_time_dict = dict(zip(user_item_time_df['user_id'], user_item_time_df['item_time_list']))\n",
    "    \n",
    "    return user_item_time_dict\n"
   ]
  },
  {
   "cell_type": "markdown",
   "id": "6096e4ac-6245-44af-8f4e-4a1fdd7fbe44",
   "metadata": {},
   "source": [
    "# 获取文章-用户-时间函数\n",
    "这个在基于关联规则的文章协同过滤的时候会用到"
   ]
  },
  {
   "cell_type": "code",
   "execution_count": 12,
   "id": "f81cd7e3-bb0b-4639-b768-4e45d92b2c46",
   "metadata": {
    "ExecuteTime": {
     "start_time": "2024-04-06T03:35:23.896381Z"
    }
   },
   "outputs": [],
   "source": [
    "# 根据时间获取商品被点击的用户序列  {item1: {user1: time1, user2: time2...}...}\n",
    "# 这里的时间是用户点击当前商品的时间，好像没有直接的关系。\n",
    "def get_item_user_time_dict(click_df):\n",
    "    def make_user_time_pair(df):\n",
    "        return list(zip(df['user_id'], df['click_timestamp']))\n",
    "    \n",
    "    click_df = click_df.sort_values('click_timestamp')\n",
    "    item_user_time_df = click_df.groupby('click_article_id')[['user_id', 'click_timestamp']].apply(lambda x: make_user_time_pair(x))\\\n",
    "                                                            .reset_index().rename(columns={0: 'user_time_list'})\n",
    "    \n",
    "    item_user_time_dict = dict(zip(item_user_time_df['click_article_id'], item_user_time_df['user_time_list']))\n",
    "    return item_user_time_dict\n"
   ]
  },
  {
   "cell_type": "markdown",
   "id": "4e3326fe-9fa0-4764-bf9c-72242b798c0a",
   "metadata": {},
   "source": [
    "# 获取历史和最后一次点击\n",
    "这个在评估召回结果， 特征工程和制作标签转成监督学习测试集的时候会用到"
   ]
  },
  {
   "cell_type": "code",
   "execution_count": 13,
   "id": "8c7c01c8-a9a1-4409-9260-e9206c77493d",
   "metadata": {
    "ExecuteTime": {
     "start_time": "2024-04-06T03:35:23.897383Z"
    }
   },
   "outputs": [],
   "source": [
    "# 获取当前数据的历史点击和最后一次点击\n",
    "def get_hist_and_last_click(all_click):\n",
    "    \n",
    "    all_click = all_click.sort_values(by=['user_id', 'click_timestamp'])\n",
    "    click_last_df = all_click.groupby('user_id').tail(1)\n",
    "\n",
    "    # 如果用户只有一个点击，hist为空了，会导致训练的时候这个用户不可见，此时默认泄露一下\n",
    "    def hist_func(user_df):\n",
    "        if len(user_df) == 1:\n",
    "            return user_df\n",
    "        else:\n",
    "            return user_df[:-1]\n",
    "\n",
    "    click_hist_df = all_click.groupby('user_id').apply(hist_func).reset_index(drop=True)\n",
    "\n",
    "    return click_hist_df, click_last_df\n"
   ]
  },
  {
   "cell_type": "markdown",
   "id": "af79bc9a-63ce-4b84-90a0-bd0786476c63",
   "metadata": {},
   "source": [
    "# 获取文章属性特征"
   ]
  },
  {
   "cell_type": "code",
   "execution_count": 14,
   "id": "4a91e5ce-7291-4c29-89c7-6cbafa250b8f",
   "metadata": {
    "ExecuteTime": {
     "start_time": "2024-04-06T03:35:23.897383Z"
    }
   },
   "outputs": [],
   "source": [
    "# 获取文章id对应的基本属性，保存成字典的形式，方便后面召回阶段，冷启动阶段直接使用\n",
    "def get_item_info_dict(item_info_df):\n",
    "    max_min_scaler = lambda x : (x-np.min(x))/(np.max(x)-np.min(x))\n",
    "    item_info_df['created_at_ts'] = item_info_df[['created_at_ts']].apply(max_min_scaler)\n",
    "    \n",
    "    item_type_dict = dict(zip(item_info_df['click_article_id'], item_info_df['category_id']))\n",
    "    item_words_dict = dict(zip(item_info_df['click_article_id'], item_info_df['words_count']))\n",
    "    item_created_time_dict = dict(zip(item_info_df['click_article_id'], item_info_df['created_at_ts']))\n",
    "    \n",
    "    return item_type_dict, item_words_dict, item_created_time_dict\n"
   ]
  },
  {
   "cell_type": "markdown",
   "id": "f06ae437-8b10-4ef9-a998-13247c46d230",
   "metadata": {},
   "source": [
    "# 获取用户历史点击的文章信息"
   ]
  },
  {
   "cell_type": "code",
   "execution_count": 15,
   "id": "a36462f0-646c-4b46-a9a5-666795946531",
   "metadata": {
    "ExecuteTime": {
     "start_time": "2024-04-06T03:35:23.898382Z"
    }
   },
   "outputs": [],
   "source": [
    "def get_user_hist_item_info_dict(all_click):\n",
    "    \n",
    "    # 获取user_id对应的用户历史点击文章类型的集合字典\n",
    "    user_hist_item_typs = all_click.groupby('user_id')['category_id'].agg(set).reset_index()\n",
    "    user_hist_item_typs_dict = dict(zip(user_hist_item_typs['user_id'], user_hist_item_typs['category_id']))\n",
    "    \n",
    "    # 获取user_id对应的用户点击文章的集合\n",
    "    user_hist_item_ids_dict = all_click.groupby('user_id')['click_article_id'].agg(set).reset_index()\n",
    "    user_hist_item_ids_dict = dict(zip(user_hist_item_ids_dict['user_id'], user_hist_item_ids_dict['click_article_id']))\n",
    "    \n",
    "    # 获取user_id对应的用户历史点击的文章的平均字数字典\n",
    "    user_hist_item_words = all_click.groupby('user_id')['words_count'].agg('mean').reset_index()\n",
    "    user_hist_item_words_dict = dict(zip(user_hist_item_words['user_id'], user_hist_item_words['words_count']))\n",
    "    \n",
    "    # 获取user_id对应的用户最后一次点击的文章的创建时间\n",
    "    all_click_ = all_click.sort_values('click_timestamp')\n",
    "    user_last_item_created_time = all_click_.groupby('user_id')['created_at_ts'].apply(lambda x: x.iloc[-1]).reset_index()\n",
    "    \n",
    "    max_min_scaler = lambda x : (x-np.min(x))/(np.max(x)-np.min(x))\n",
    "    user_last_item_created_time['created_at_ts'] = user_last_item_created_time[['created_at_ts']].apply(max_min_scaler)\n",
    "    \n",
    "    user_last_item_created_time_dict = dict(zip(user_last_item_created_time['user_id'], \\\n",
    "                                                user_last_item_created_time['created_at_ts']))\n",
    "    \n",
    "    return user_hist_item_typs_dict, user_hist_item_ids_dict, user_hist_item_words_dict, user_last_item_created_time_dict\n"
   ]
  },
  {
   "cell_type": "markdown",
   "id": "56fd6131-7c8b-42d5-a138-bb7cf0397b12",
   "metadata": {},
   "source": [
    "# 获取点击次数最多的Top-k个文章"
   ]
  },
  {
   "cell_type": "code",
   "execution_count": 16,
   "id": "50641664-54e3-4ad4-8c4b-b9098778a721",
   "metadata": {
    "ExecuteTime": {
     "start_time": "2024-04-06T03:35:23.899382Z"
    }
   },
   "outputs": [],
   "source": [
    "# 获取总点击最多的文章  Todo: 可以改成根据user最后点击时间召回近期点击最多的文章\n",
    "def get_item_topk_click(click_df, k):\n",
    "    topk_click = click_df['click_article_id'].value_counts().index[:k]\n",
    "    return topk_click\n"
   ]
  },
  {
   "cell_type": "markdown",
   "id": "b158071f-86dc-45ca-82d2-6e319db40528",
   "metadata": {},
   "source": [
    "# 定义多路召回字典"
   ]
  },
  {
   "cell_type": "code",
   "execution_count": 17,
   "id": "1b8878e9-4dd9-4752-95c1-f97b76ec8c35",
   "metadata": {
    "ExecuteTime": {
     "start_time": "2024-04-06T03:35:23.900487Z"
    }
   },
   "outputs": [
    {
     "name": "stdout",
     "output_type": "stream",
     "text": [
      "[(0, 0.9784319658749242), (1, 0.6802953033702287), (2, 0.6894929947449092), (3, 0.6889415569496703), (4, 0.6850776454577139), (5, 0.6860255709908093), (6, 0.6928921611568543), (7, 0.7002564040693058), (8, 0.7052121343528285), (9, 0.7001656155263675)]\n"
     ]
    }
   ],
   "source": [
    "# 获取文章的属性信息，保存成字典的形式方便查询\n",
    "item_type_dict, item_words_dict, item_created_time_dict = get_item_info_dict(item_info_df)\n",
    "print(list(item_created_time_dict.items())[:10])"
   ]
  },
  {
   "cell_type": "code",
   "execution_count": 18,
   "id": "6c637e77-db7b-4443-8442-37f9554c3b51",
   "metadata": {
    "ExecuteTime": {
     "start_time": "2024-04-06T03:35:23.901595Z"
    }
   },
   "outputs": [],
   "source": [
    "# 定义一个多路召回的字典，将各路召回的结果都保存在这个字典当中\n",
    "user_multi_recall_dict =  {'itemcf_sim_itemcf_recall': {},\n",
    "                           'usercf_sim_itemcf_recall':{},\n",
    "                           'embedding_sim_item_recall': {},\n",
    "                           'youtubednn_recall': {},\n",
    "                           'youtubednn_usercf_recall': {}, \n",
    "                           'cold_start_recall': {}}\n"
   ]
  },
  {
   "cell_type": "code",
   "execution_count": 19,
   "id": "229bddf1-12c7-4c32-9750-1a401c8185d8",
   "metadata": {
    "ExecuteTime": {
     "start_time": "2024-04-06T03:35:23.902633Z"
    }
   },
   "outputs": [],
   "source": [
    "# 提取最后一次点击作为召回评估，如果不需要做召回评估直接使用全量的训练集进行召回(线下验证模型)\n",
    "# 如果不是召回评估，直接使用全量数据进行召回，不用将最后一次提取出来\n",
    "if metric_recall:\n",
    "    trn_hist_click_df, trn_last_click_df = get_hist_and_last_click(all_click_df)\n",
    "else:\n",
    "    trn_hist_click_df = all_click_df\n",
    "# trn_hist_click_df, trn_last_click_df = get_hist_and_last_click(all_click_df)\n"
   ]
  },
  {
   "cell_type": "code",
   "execution_count": 20,
   "id": "645b836a-fa1d-4e6f-8386-e5824d104e03",
   "metadata": {
    "ExecuteTime": {
     "start_time": "2024-04-06T03:35:23.903667Z"
    }
   },
   "outputs": [],
   "source": [
    "# 依次评估召回的前10, 20, 30, 40, 50个文章中的击中率\n",
    "def metrics_recall(user_recall_items_dict, trn_last_click_df, topk=50):\n",
    "    last_click_item_dict = dict(zip(trn_last_click_df['user_id'], trn_last_click_df['click_article_id']))\n",
    "    user_num = len(user_recall_items_dict)\n",
    "    \n",
    "    for k in range(10, topk+1, 10):\n",
    "        hit_num = 0\n",
    "        for user, item_list in user_recall_items_dict.items():\n",
    "            # 获取前k个召回的结果\n",
    "            tmp_recall_items = [x[0] for x in user_recall_items_dict[user][:k]]\n",
    "            if last_click_item_dict[user] in set(tmp_recall_items):\n",
    "                hit_num += 1\n",
    "        \n",
    "        hit_rate = round(hit_num * 1.0 / user_num, 5)\n",
    "        print(' topk: ', k, ' : ', 'hit_num: ', hit_num, 'hit_rate: ', hit_rate, 'user_num : ', user_num)\n"
   ]
  },
  {
   "cell_type": "markdown",
   "id": "678c5b14-93b5-4646-b3b7-59bcafc30963",
   "metadata": {},
   "source": [
    "# 计算相似性矩阵\n",
    "这一部分主要是通过协同过滤以及向量检索得到相似性矩阵，相似性矩阵主要分为user2user和item2item，下面依次获取基于itemCF的item2item的相似性矩阵。"
   ]
  },
  {
   "cell_type": "markdown",
   "id": "9d862fbf-b78a-4881-bae2-d57b6ce884e6",
   "metadata": {},
   "source": [
    "# itemCF i2i_sim\n",
    "借鉴KDD2020的去偏商品推荐，在计算item2item相似性矩阵时，使用关联规则，使得计算的文章的相似性还考虑到了:\n",
    "\n",
    "- 用户点击的时间权重\n",
    "- 用户点击的顺序权重\n",
    "- 文章创建的时间权重"
   ]
  },
  {
   "cell_type": "code",
   "execution_count": 21,
   "id": "916dd91e-d667-4b35-88db-67b74e2185d0",
   "metadata": {
    "ExecuteTime": {
     "start_time": "2024-04-06T03:35:23.904710Z"
    }
   },
   "outputs": [],
   "source": [
    "def itemcf_sim(df, item_created_time_dict,resume=False):\n",
    "    \"\"\"\n",
    "        文章与文章之间的相似性矩阵计算\n",
    "        :param df: 数据表\n",
    "        :item_created_time_dict:  文章创建时间的字典\n",
    "        return : 文章与文章的相似性矩阵\n",
    "        \n",
    "        思路: 基于物品的协同过滤(详细请参考上一期推荐系统基础的组队学习) + 关联规则\n",
    "    \"\"\"\n",
    "    if resume and os.path.exists(save_path + 'itemcf_i2i_sim.pkl'):\n",
    "        with open(save_path + 'itemcf_i2i_sim.pkl', 'rb') as file:\n",
    "            i2i_sim_ = pickle.load(file)\n",
    "            return i2i_sim_\n",
    "    user_item_time_dict = get_user_item_time(df)\n",
    "    \n",
    "    # 计算物品相似度\n",
    "    i2i_sim = {}\n",
    "    item_cnt = defaultdict(int) #统计物品被所有人点击次数，减少热门物品的影响\n",
    "    for user, item_time_list in tqdm(user_item_time_dict.items()): # 同一个人点了2种物品，这两种物品相似度增加\n",
    "        # 在基于商品的协同过滤优化的时候可以考虑时间因素\n",
    "        for loc1, (i, i_click_time) in enumerate(item_time_list):\n",
    "            item_cnt[i] += 1\n",
    "            i2i_sim.setdefault(i, {})\n",
    "            for loc2, (j, j_click_time) in enumerate(item_time_list):\n",
    "                if(i == j):\n",
    "                    continue\n",
    "                    \n",
    "                # 考虑文章的正向顺序点击和反向顺序点击    先点i后点j 用i检索j给更大权重\n",
    "                loc_alpha = 1.0 if loc2 > loc1 else 0.7\n",
    "                # 位置信息权重，其中的参数可以调节\n",
    "                loc_weight = loc_alpha * (0.9 ** (np.abs(loc2 - loc1) - 1))\n",
    "                # 点击时间权重，其中的参数可以调节\n",
    "                click_time_weight = np.exp(0.7 ** np.abs(i_click_time - j_click_time))\n",
    "                # 两篇文章创建时间的权重，其中的参数可以调节\n",
    "                created_time_weight = np.exp(0.8 ** np.abs(item_created_time_dict[i] - item_created_time_dict[j]))\n",
    "                i2i_sim[i].setdefault(j, 0)\n",
    "                # 考虑多种因素的权重计算最终的文章之间的相似度\n",
    "                i2i_sim[i][j] += loc_weight * click_time_weight * created_time_weight / math.log(len(item_time_list) + 1)\n",
    "                \n",
    "    i2i_sim_ = i2i_sim.copy()\n",
    "    for i, related_items in i2i_sim.items():\n",
    "        for j, wij in related_items.items():\n",
    "            i2i_sim_[i][j] = wij / math.sqrt(item_cnt[i] * item_cnt[j])\n",
    "    \n",
    "    # 将得到的相似性矩阵保存到本地\n",
    "    pickle.dump(i2i_sim_, open(save_path + 'itemcf_i2i_sim.pkl', 'wb'))\n",
    "    \n",
    "    return i2i_sim_\n"
   ]
  },
  {
   "cell_type": "code",
   "execution_count": 22,
   "id": "9c4d8c9c-8f3e-4e78-ab27-6f72e15d67d1",
   "metadata": {
    "ExecuteTime": {
     "start_time": "2024-04-06T03:35:23.905740Z"
    }
   },
   "outputs": [
    {
     "name": "stderr",
     "output_type": "stream",
     "text": [
      "100%|██████████| 50000/50000 [01:22<00:00, 606.29it/s] \n"
     ]
    }
   ],
   "source": [
    "# i2i_sim = itemcf_sim(all_click_df, item_created_time_dict,resume=False)\n",
    "i2i_sim = itemcf_sim(trn_hist_click_df, item_created_time_dict,resume=False)\n"
   ]
  },
  {
   "cell_type": "markdown",
   "id": "d0d743d0b8795bc7",
   "metadata": {
    "collapsed": false
   },
   "source": [
    "# userCF u2u_sim\n",
    "在计算用户之间的相似度的时候，也可以使用一些简单的关联规则，比如用户活跃度权重，这里将用户的点击次数作为用户活跃度的指标"
   ]
  },
  {
   "cell_type": "code",
   "execution_count": 23,
   "id": "566906f1-9b7f-4e59-af2f-a543eb870fbe",
   "metadata": {
    "ExecuteTime": {
     "start_time": "2024-04-06T03:35:23.905740Z"
    }
   },
   "outputs": [],
   "source": [
    "def get_user_activate_degree_dict(all_click_df):\n",
    "    \n",
    "    all_click_df_ = all_click_df.groupby('user_id')['click_article_id'].count().reset_index()\n",
    "    # 用户活跃度归一化\n",
    "    mm = MinMaxScaler()\n",
    "    \n",
    "    all_click_df_['click_article_id'] = mm.fit_transform(all_click_df_[['click_article_id']])\n",
    "    user_activate_degree_dict = dict(zip(all_click_df_['user_id'], all_click_df_['click_article_id']))\n",
    "    \n",
    "    return user_activate_degree_dict\n"
   ]
  },
  {
   "cell_type": "code",
   "execution_count": 24,
   "id": "54080a6ebf047913",
   "metadata": {
    "ExecuteTime": {
     "start_time": "2024-04-06T03:35:23.906774Z"
    },
    "collapsed": false
   },
   "outputs": [],
   "source": [
    "def usercf_sim(all_click_df, user_activate_degree_dict,resume=False):\n",
    "    \"\"\"\n",
    "        用户相似性矩阵计算\n",
    "        :param all_click_df: 数据表\n",
    "        :param user_activate_degree_dict: 用户活跃度的字典\n",
    "        return 用户相似性矩阵\n",
    "        \n",
    "        思路: 基于用户的协同过滤(详细请参考上一期推荐系统基础的组队学习) + 关联规则\n",
    "    \"\"\"\n",
    "    if resume and os.path.exists(save_path + 'usercf_u2u_sim.pkl'):\n",
    "        with open(save_path + 'usercf_u2u_sim.pkl', 'rb') as file:\n",
    "            u2u_sim_ = pickle.load(file)\n",
    "            return u2u_sim_\n",
    "    item_user_time_dict = get_item_user_time_dict(all_click_df)\n",
    "    \n",
    "    u2u_sim = {}\n",
    "    user_cnt = defaultdict(int)\n",
    "    for item, user_time_list in tqdm(item_user_time_dict.items()):\n",
    "        for u, click_time in user_time_list:\n",
    "            user_cnt[u] += 1\n",
    "            u2u_sim.setdefault(u, {})\n",
    "            for v, click_time in user_time_list:\n",
    "                u2u_sim[u].setdefault(v, 0)\n",
    "                if u == v:\n",
    "                    continue\n",
    "                # 用户平均活跃度作为活跃度的权重，这里的式子也可以改善 Todo: 可能没用\n",
    "                activate_weight = 100 * 0.5 * (user_activate_degree_dict[u] + user_activate_degree_dict[v])   \n",
    "                u2u_sim[u][v] += activate_weight / math.log(len(user_time_list) + 1) # math.log(len(user_time_list) + 1)惩罚热门商品对相似度的影响\n",
    "    \n",
    "    u2u_sim_ = u2u_sim\n",
    "    for u, related_users in u2u_sim.items():\n",
    "        for v, wij in related_users.items():\n",
    "            u2u_sim_[u][v] = wij / math.sqrt(user_cnt[u] * user_cnt[v])\n",
    "    \n",
    "    # 将得到的相似性矩阵保存到本地\n",
    "    pickle.dump(u2u_sim_, open(save_path + 'usercf_u2u_sim.pkl', 'wb'))\n",
    "\n",
    "    return u2u_sim_\n"
   ]
  },
  {
   "cell_type": "code",
   "execution_count": 25,
   "id": "548e0805130339b4",
   "metadata": {
    "ExecuteTime": {
     "start_time": "2024-04-06T03:35:23.907814Z"
    },
    "collapsed": false
   },
   "outputs": [
    {
     "name": "stderr",
     "output_type": "stream",
     "text": [
      "100%|██████████| 5845/5845 [00:07<00:00, 782.17it/s] \n"
     ]
    }
   ],
   "source": [
    "user_activate_degree_dict = get_user_activate_degree_dict(all_click_df)\n",
    "# u2u_sim = usercf_sim(all_click_df, user_activate_degree_dict,resume=False)\n",
    "u2u_sim = usercf_sim(trn_hist_click_df, user_activate_degree_dict,resume=False)\n"
   ]
  },
  {
   "cell_type": "markdown",
   "id": "9a439ae53137830f",
   "metadata": {
    "collapsed": false
   },
   "source": [
    "# item embedding sim"
   ]
  },
  {
   "cell_type": "code",
   "execution_count": 26,
   "id": "59604fc11c9445bb",
   "metadata": {
    "ExecuteTime": {
     "start_time": "2024-04-06T03:35:23.908853Z"
    },
    "collapsed": false
   },
   "outputs": [],
   "source": [
    "# 向量检索相似度计算\n",
    "# topk指的是每个item, faiss搜索后返回最相似的topk个item\n",
    "def embdding_sim(click_df, item_emb_df, save_path, topk,resume):\n",
    "    \"\"\"\n",
    "        基于内容的文章embedding相似性矩阵计算\n",
    "        :param click_df: 数据表\n",
    "        :param item_emb_df: 文章的embedding\n",
    "        :param save_path: 保存路径\n",
    "        :patam topk: 找最相似的topk篇\n",
    "        return 文章相似性矩阵\n",
    "        \n",
    "        思路: 对于每一篇文章， 基于embedding的相似性返回topk个与其最相似的文章， 只不过由于文章数量太多，这里用了faiss进行加速\n",
    "    \"\"\"\n",
    "    if resume and os.path.exists(save_path + 'emb_i2i_sim.pkl'):\n",
    "        with open(save_path + 'emb_i2i_sim.pkl', 'rb') as file:\n",
    "            item_sim_dict = pickle.load(file)\n",
    "            return item_sim_dict\n",
    "    # 文章索引与文章id的字典映射\n",
    "    item_idx_2_rawid_dict = dict(zip(item_emb_df.index, item_emb_df['article_id']))\n",
    "    \n",
    "    item_emb_cols = [x for x in item_emb_df.columns if 'emb' in x]\n",
    "    item_emb_np = np.ascontiguousarray(item_emb_df[item_emb_cols].values, dtype=np.float32)\n",
    "    # 向量进行单位化\n",
    "    item_emb_np = item_emb_np / np.linalg.norm(item_emb_np, axis=1, keepdims=True)\n",
    "    print('item_emb_np.shape', item_emb_np.shape)\n",
    "    # 建立faiss索引\n",
    "    item_index = faiss.IndexFlatIP(item_emb_np.shape[1])\n",
    "    item_index.add(item_emb_np)\n",
    "    # 相似度查询，给每个索引位置上的向量返回topk个item以及相似度\n",
    "    sim, idx = item_index.search(item_emb_np, topk) # 返回的是列表\n",
    "    \n",
    "    # 将向量检索的结果保存成原始id的对应关系\n",
    "    item_sim_dict = collections.defaultdict(dict)\n",
    "    for target_idx, sim_value_list, rele_idx_list in tqdm(zip(range(len(item_emb_np)), sim, idx)):\n",
    "        target_raw_id = item_idx_2_rawid_dict[target_idx]\n",
    "        # 从1开始是为了去掉商品本身, 所以最终获得的相似商品只有topk-1\n",
    "        for rele_idx, sim_value in zip(rele_idx_list[1:], sim_value_list[1:]): \n",
    "            rele_raw_id = item_idx_2_rawid_dict[rele_idx]\n",
    "            item_sim_dict[target_raw_id][rele_raw_id] = item_sim_dict.get(target_raw_id, {}).get(rele_raw_id, 0) + sim_value\n",
    "    \n",
    "    # 保存i2i相似度矩阵\n",
    "    pickle.dump(item_sim_dict, open(save_path + 'emb_i2i_sim.pkl', 'wb'))   \n",
    "    \n",
    "    return item_sim_dict\n"
   ]
  },
  {
   "cell_type": "code",
   "execution_count": 27,
   "id": "f259b3fa62a16776",
   "metadata": {
    "ExecuteTime": {
     "start_time": "2024-04-06T03:35:23.908853Z"
    },
    "collapsed": false
   },
   "outputs": [],
   "source": [
    "item_emb_df = pd.read_csv(data_path + '/articles_emb.csv')\n",
    "emb_i2i_sim = embdding_sim(all_click_df, item_emb_df, save_path, topk=11,resume=True) # topk可以自行设置\n"
   ]
  },
  {
   "cell_type": "markdown",
   "id": "7f9447ed973ed3e0",
   "metadata": {
    "collapsed": false
   },
   "source": [
    "# 召回\n",
    "## YoutubeDNN召回"
   ]
  },
  {
   "cell_type": "code",
   "execution_count": 29,
   "id": "5a4e9ac798dc1568",
   "metadata": {
    "collapsed": false
   },
   "outputs": [],
   "source": [
    "# 获取双塔召回时的训练验证数据\n",
    "# negsample指的是通过滑窗构建样本的时候，负样本的数量\n",
    "def gen_data_set(data, negsample=0):\n",
    "    data.sort_values(\"click_timestamp\", inplace=True)\n",
    "    item_ids = data['click_article_id'].unique()\n",
    "\n",
    "    train_set = []\n",
    "    test_set = []\n",
    "    for reviewerID, hist in tqdm(data.groupby('user_id')):\n",
    "        pos_list = hist['click_article_id'].tolist()\n",
    "        \n",
    "        if negsample > 0:\n",
    "            candidate_set = list(set(item_ids) - set(pos_list))   # 用户没看过的文章里面选择负样本\n",
    "            neg_list = np.random.choice(candidate_set,size=len(pos_list)*negsample,replace=True)  # 对于每个正样本，选择n个负样本\n",
    "            \n",
    "        # 长度只有一个的时候，需要把这条数据也放到训练集中，不然的话最终学到的embedding就会有缺失\n",
    "        if len(pos_list) == 1:\n",
    "            train_set.append((reviewerID, [pos_list[0]], pos_list[0],1,len(pos_list)))\n",
    "            test_set.append((reviewerID, [pos_list[0]], pos_list[0],1,len(pos_list)))\n",
    "            \n",
    "        # 滑窗构造正负样本\n",
    "        for i in range(1, len(pos_list)):   # 对从2开始的每个位置都根据前面的预测\n",
    "            hist = pos_list[:i]\n",
    "            \n",
    "            if i != len(pos_list) - 1:\n",
    "                train_set.append((reviewerID, hist[::-1], pos_list[i], 1, len(hist)))  # 正样本 [user_id, his_item, pos_item, label, len(his_item)]\n",
    "                for negi in range(negsample):\n",
    "                    train_set.append((reviewerID, hist[::-1], neg_list[i*negsample+negi], 0,len(hist))) # 负样本 [user_id, his_item, neg_item, label, len(his_item)]\n",
    "            else:\n",
    "                # 将最长的那一个序列长度作为测试数据\n",
    "                test_set.append((reviewerID, hist[::-1], pos_list[i],1,len(hist)))\n",
    "                \n",
    "    random.shuffle(train_set)\n",
    "    random.shuffle(test_set)\n",
    "    \n",
    "    return train_set, test_set\n",
    "\n",
    "def pad_sequences(sequences, maxlen=None, dtype='int32', padding='pre', truncating='pre', value=0.):\n",
    "    if maxlen is None:\n",
    "        maxlen = np.max([len(s) for s in sequences])\n",
    " \n",
    "    # 循环处理每个序列\n",
    "    padded_sequences = []\n",
    "    for seq in sequences:\n",
    "        # 截断序列\n",
    "        if truncating == 'pre':\n",
    "            trunc_seq = seq[-maxlen:]\n",
    "        else:\n",
    "            trunc_seq = seq[:maxlen]\n",
    "        \n",
    "        # 填充序列\n",
    "        if padding == 'pre':\n",
    "            padded_seq = [value] * (maxlen - len(trunc_seq)) + trunc_seq\n",
    "        else:\n",
    "            padded_seq = trunc_seq + [value] * (maxlen - len(trunc_seq))\n",
    "        \n",
    "        # 添加到结果列表\n",
    "        padded_sequences.append(padded_seq)\n",
    "    \n",
    "    # 返回结果数组\n",
    "    return np.array(padded_sequences, dtype=dtype)\n",
    "\n",
    "# 将输入的数据进行padding，使得序列特征的长度都一致\n",
    "def gen_model_input(train_set,user_profile,seq_max_len):\n",
    "\n",
    "    train_uid = np.array([line[0] for line in train_set])\n",
    "    train_seq = [line[1] for line in train_set]\n",
    "    train_iid = np.array([line[2] for line in train_set])\n",
    "    train_label = np.array([line[3] for line in train_set])\n",
    "    train_hist_len = np.array([line[4] for line in train_set])\n",
    "\n",
    "    train_seq_pad = pad_sequences(train_seq, maxlen=seq_max_len, padding='post', truncating='post', value=0)\n",
    "    train_model_input = {\"user_id\": train_uid, \"click_article_id\": train_iid, \"hist_article_id\": train_seq_pad,\n",
    "                         \"hist_len\": train_hist_len}\n",
    "\n",
    "    return train_model_input, train_label\n"
   ]
  },
  {
   "cell_type": "code",
   "execution_count": 30,
   "id": "496d150e9e59fc3",
   "metadata": {
    "ExecuteTime": {
     "start_time": "2024-04-06T03:35:23.910967Z"
    },
    "collapsed": false
   },
   "outputs": [],
   "source": [
    "# 时序信息加位置编码 不止使用用户点击序列 使用item点击序列\n",
    "def youtubednn_u2i_dict(data, topk=20, resume=False):\n",
    "    if resume and os.path.exists(save_path + 'youtube_u2i_dict.pkl'):\n",
    "        with open(save_path + 'youtube_u2i_dict.pkl', 'rb') as file:\n",
    "            user_recall_items_dict = pickle.load(file)\n",
    "        return user_recall_items_dict\n",
    "    sparse_features = [\"click_article_id\", \"user_id\"]\n",
    "    SEQ_LEN = 30  # 用户点击序列的长度，短的填充，长的截断\n",
    "\n",
    "    user_profile_ = data[[\"user_id\"]].drop_duplicates('user_id')\n",
    "    item_profile_ = data[[\"click_article_id\"]].drop_duplicates('click_article_id')\n",
    "\n",
    "    # 类别编码\n",
    "    features = [\"click_article_id\", \"user_id\"]\n",
    "    feature_max_idx = {}  # 其实就是这个特征的vocabulary_size\n",
    "\n",
    "    for feature in features:\n",
    "        lbe = LabelEncoder()  # 把不连续的id编码成从0开始的连续label\n",
    "        data[feature] = lbe.fit_transform(data[feature])\n",
    "        feature_max_idx[feature] = data[feature].max() + 1\n",
    "\n",
    "    # 提取user和item的画像，这里具体选择哪些特征还需要进一步的分析和考虑\n",
    "    user_profile = data[[\"user_id\"]].drop_duplicates('user_id')  # user_id已经被LabelEncoder改变了\n",
    "    item_profile = data[[\"click_article_id\"]].drop_duplicates('click_article_id')\n",
    "    \n",
    "    user_index_2_rawid = dict(zip(user_profile['user_id'], user_profile_['user_id']))\n",
    "    item_index_2_rawid = dict(zip(item_profile['click_article_id'], item_profile_['click_article_id']))\n",
    "\n",
    "    # 划分训练和测试集\n",
    "    # 由于深度学习需要的数据量通常都是非常大的，所以为了保证召回的效果，往往会通过滑窗的形式扩充训练样本\n",
    "    train_set, test_set = gen_data_set(data, 0)\n",
    "    # 整理输入数据，具体的操作可以看上面的函数\n",
    "    train_model_input, train_label = gen_model_input(train_set, user_profile, SEQ_LEN)\n",
    "    test_model_input, test_label = gen_model_input(test_set, user_profile, SEQ_LEN)\n",
    "    # 确定Embedding的维度\n",
    "    embedding_dim = 16\n",
    "\n",
    "    # 将数据整理成模型可以直接输入的形式\n",
    "    user_feature_columns = [SparseFeat('user_id', feature_max_idx['user_id'], embedding_dim),\n",
    "                            VarLenSparseFeat(\n",
    "                                SparseFeat('hist_article_id', feature_max_idx['click_article_id'], embedding_dim,\n",
    "                                           embedding_name=\"click_article_id\"), SEQ_LEN, 'mean', 'hist_len'), ]\n",
    "    item_feature_columns = [SparseFeat('click_article_id', feature_max_idx['click_article_id'], embedding_dim)]\n",
    "\n",
    "    # 模型的定义\n",
    "    # num_sampled: 负采样时的样本数量\n",
    "    linear_feature_columns = user_feature_columns + item_feature_columns\n",
    "    from deepctr_torch.inputs import build_input_features\n",
    "    feature_index = build_input_features(\n",
    "        linear_feature_columns)\n",
    "    # print(feature_index)\n",
    "    # print(feature_index['click_article_id'][0], item_feature_columns['click_article_id'][1])\n",
    "    # exit()\n",
    "    model = YouTubeDNN(user_feature_columns, item_feature_columns, num_sampled=5,\n",
    "                       user_dnn_hidden_units=(64, embedding_dim), optimizer='Adam',\n",
    "           # config={\n",
    "           #  'gpus': '1'\n",
    "           #  }\n",
    "                       )\n",
    "\n",
    "\n",
    "    # 模型编译\n",
    "    # model.compile(optimizer=\"adam\", loss=sampledsoftmaxloss)\n",
    "\n",
    "    history = model.fit(train_model_input, train_label, batch_size=256, max_epochs=1)\n",
    "    return\n",
    "    # 训练完模型之后,提取训练的Embedding，包括user端和item端\n",
    "    # 保存当前的item_embedding 和 user_embedding 排序的时候可能能够用到，但是需要注意保存的时候需要和原始的id对应\n",
    "    test_user_model_input = test_model_input\n",
    "    all_item_model_input = {\"click_article_id\": item_profile['click_article_id'].values}\n",
    "\n",
    "    model.mode = \"user_representation\"\n",
    "    user_embs = model.full_predict(test_user_model_input, batch_size=2 ** 12).squeeze()\n",
    "    model.mode = \"item_representation\"\n",
    "    item_embedding_model = model.rebuild_feature_index(item_feature_columns)\n",
    "    item_embs = item_embedding_model.full_predict(all_item_model_input, batch_size=2 ** 12)  # item_embs不全覆盖所有item，不会使用\n",
    "    # item_embs = model.item_tower(train_model_input)\n",
    "    print(user_embs.shape)\n",
    "    item_embs = item_embs.squeeze()\n",
    "    print(item_embs.shape)\n",
    "    # exit()\n",
    "    # embedding保存之前归一化一下\n",
    "    user_embs = user_embs / np.linalg.norm(user_embs, axis=1, keepdims=True)\n",
    "    item_embs = item_embs / np.linalg.norm(item_embs, axis=1, keepdims=True)\n",
    "\n",
    "    # 将Embedding转换成字典的形式方便查询\n",
    "    raw_user_id_emb_dict = {user_index_2_rawid[k]: \\\n",
    "                                v for k, v in zip(user_profile['user_id'], user_embs)}\n",
    "    raw_item_id_emb_dict = {item_index_2_rawid[k]: \\\n",
    "                                v for k, v in zip(item_profile['click_article_id'], item_embs)}\n",
    "    # 将Embedding保存到本地\n",
    "    pickle.dump(raw_user_id_emb_dict, open(save_path + 'user_youtube_emb.pkl', 'wb'))\n",
    "    pickle.dump(raw_item_id_emb_dict, open(save_path + 'item_youtube_emb.pkl', 'wb'))\n",
    "\n",
    "    # faiss紧邻搜索，通过user_embedding 搜索与其相似性最高的topk个item\n",
    "    # res = faiss.StandardGpuResources()  # use a single GPU\n",
    "    index = faiss.IndexFlatIP(embedding_dim)\n",
    "    # gpu_index = faiss.index_cpu_to_all_gpus(index)\n",
    "    # 上面已经进行了归一化，这里可以不进行归一化了\n",
    "    #     faiss.normalize_L2(user_embs)\n",
    "    #     faiss.normalize_L2(item_embs)\n",
    "    item_embs = item_embs.numpy()\n",
    "    index.add(item_embs)  # 将item向量构建索引\n",
    "    sim, idx = index.search(np.ascontiguousarray(user_embs), topk)  # 通过user去查询最相似的topk个item\n",
    "\n",
    "    user_recall_items_dict = collections.defaultdict(dict)\n",
    "    for target_idx, sim_value_list, rele_idx_list in tqdm(zip(test_user_model_input['user_id'], sim, idx)):\n",
    "        target_raw_id = user_index_2_rawid[target_idx]\n",
    "        # user找item 没必要去掉1\n",
    "        for rele_idx, sim_value in zip(rele_idx_list, sim_value_list):\n",
    "            rele_raw_id = item_index_2_rawid[rele_idx]\n",
    "            user_recall_items_dict[target_raw_id][rele_raw_id] = user_recall_items_dict.get(target_raw_id, {}) \\\n",
    "                                                                     .get(rele_raw_id, 0) + sim_value\n",
    "\n",
    "    user_recall_items_dict = {k: sorted(v.items(), key=lambda x: x[1], reverse=True) for k, v in\n",
    "                              user_recall_items_dict.items()}  # Todo sorted(v.items(), key=lambda x: x[1], reverse=True)好像有bug\n",
    "    # 将召回的结果进行排序\n",
    "\n",
    "    # 保存召回的结果\n",
    "    # 这里是直接通过向量的方式得到了召回结果，相比于上面的召回方法，上面的只是得到了i2i及u2u的相似性矩阵，还需要进行协同过滤召回才能得到召回结果\n",
    "    # 可以直接对这个召回结果进行评估，为了方便可以统一写一个评估函数对所有的召回结果进行评估\n",
    "    pickle.dump(user_recall_items_dict, open(save_path + 'youtube_u2i_dict.pkl', 'wb'))\n",
    "    return user_recall_items_dict"
   ]
  },
  {
   "cell_type": "code",
   "execution_count": null,
   "id": "635bef6347027981",
   "metadata": {
    "ExecuteTime": {
     "start_time": "2024-04-06T03:35:23.912006Z"
    },
    "collapsed": false
   },
   "outputs": [],
   "source": [
    "# 由于这里需要做召回评估，所以讲训练集中的最后一次点击都提取了出来\n",
    "if not metric_recall:\n",
    "    user_multi_recall_dict['youtubednn_recall'] = youtubednn_u2i_dict(all_click_df, topk=20)\n",
    "else:\n",
    "    trn_hist_click_df, trn_last_click_df = get_hist_and_last_click(all_click_df)  # trn_hist_click_df 没有最后点击的item 召回评估时不是所有item都有embedding\n",
    "    # print(len(all_click_df['click_article_id'].unique()))\n",
    "    # print(len(trn_hist_click_df['click_article_id'].unique()))\n",
    "    # print(len(trn_last_click_df['click_article_id'].unique()))\n",
    "    user_multi_recall_dict['youtubednn_recall'] = youtubednn_u2i_dict(trn_hist_click_df, topk=20,resume=False)\n",
    "    # 召回效果评估\n",
    "    metrics_recall(user_multi_recall_dict['youtubednn_recall'], trn_last_click_df, topk=20)\n"
   ]
  },
  {
   "cell_type": "markdown",
   "id": "4a40d08b-bce3-4dd1-bea1-7dfb0b9b62a5",
   "metadata": {},
   "source": [
    "# itemCF recall"
   ]
  },
  {
   "cell_type": "code",
   "execution_count": 23,
   "id": "c2c57db36b1f864d",
   "metadata": {
    "collapsed": false
   },
   "outputs": [],
   "source": [
    "# 基于商品的召回i2i\n",
    "def item_based_recommend(user_id, user_item_time_dict, i2i_sim, sim_item_topk, recall_item_num, item_topk_click, item_created_time_dict, emb_i2i_sim):\n",
    "    \"\"\"\n",
    "        基于文章协同过滤的召回\n",
    "        :param user_id: 用户id\n",
    "        :param user_item_time_dict: 字典, 根据点击时间获取用户的点击文章序列   {user1: {item1: time1, item2: time2..}...}\n",
    "        :param i2i_sim: 字典，文章相似性矩阵\n",
    "        :param sim_item_topk: 整数， 选择与当前文章最相似的前k篇文章\n",
    "        :param recall_item_num: 整数， 最后的召回文章数量\n",
    "        :param item_topk_click: 列表，点击次数最多的文章列表，用户召回补全\n",
    "        :param emb_i2i_sim: 字典基于内容embedding算的文章相似矩阵\n",
    "        \n",
    "        return: 召回的文章列表 {item1:score1, item2: score2...}\n",
    "        \n",
    "    \"\"\"\n",
    "    # 获取用户历史交互的文章\n",
    "    user_hist_items = user_item_time_dict[user_id]\n",
    "    \n",
    "    item_rank = {}\n",
    "    for loc, (i, click_time) in enumerate(user_hist_items):\n",
    "        for j, wij in sorted(i2i_sim[i].items(), key=lambda x: x[1], reverse=True)[:sim_item_topk]:\n",
    "            if j in user_hist_items:# 不找已经点的\n",
    "                continue\n",
    "            \n",
    "            # 文章创建时间差权重\n",
    "            created_time_weight = np.exp(0.8 ** np.abs(item_created_time_dict[i] - item_created_time_dict[j]))\n",
    "            # 相似文章和历史点击文章序列中历史文章所在的位置权重\n",
    "            loc_weight = (0.9 ** (len(user_hist_items) - loc))\n",
    "            \n",
    "            content_weight = 1.0\n",
    "            # if emb_i2i_sim.get(i, {}).get(j, None) is not None:\n",
    "            #     content_weight += emb_i2i_sim[i][j]\n",
    "            # if emb_i2i_sim.get(j, {}).get(i, None) is not None: #不用key对query的相似度更好\n",
    "            #     content_weight += emb_i2i_sim[j][i]\n",
    "                \n",
    "            item_rank.setdefault(j, 0)\n",
    "            item_rank[j] += created_time_weight * loc_weight * content_weight * wij\n",
    "    \n",
    "    # 不足10个，用热门商品补全\n",
    "    if len(item_rank) < recall_item_num:\n",
    "        for i, item in enumerate(item_topk_click):\n",
    "            if item in item_rank.items(): # 填充的item应该不在原来的列表中\n",
    "                continue\n",
    "            item_rank[item] = - i - 100 # 随便给个负数就行\n",
    "            if len(item_rank) == recall_item_num:\n",
    "                break\n",
    "    # print(item_rank.items())\n",
    "    item_rank = sorted(item_rank.items(), key=lambda x: x[1], reverse=True)[:recall_item_num]\n",
    "        \n",
    "    return item_rank\n"
   ]
  },
  {
   "cell_type": "code",
   "execution_count": 24,
   "id": "ec6d8385c0b488a8",
   "metadata": {
    "collapsed": false
   },
   "outputs": [
    {
     "name": "stderr",
     "output_type": "stream",
     "text": [
      "100%|██████████| 50000/50000 [07:42<00:00, 108.09it/s]\n"
     ]
    },
    {
     "name": "stdout",
     "output_type": "stream",
     "text": [
      " topk:  10  :  hit_num:  16819 hit_rate:  0.33638 user_num :  50000\n",
      " topk:  20  :  hit_num:  22089 hit_rate:  0.44178 user_num :  50000\n",
      " topk:  30  :  hit_num:  25052 hit_rate:  0.50104 user_num :  50000\n",
      " topk:  40  :  hit_num:  27121 hit_rate:  0.54242 user_num :  50000\n",
      " topk:  50  :  hit_num:  28619 hit_rate:  0.57238 user_num :  50000\n"
     ]
    }
   ],
   "source": [
    "# 先进行itemcf召回, 为了召回评估，所以提取最后一次点击\n",
    "\n",
    "# if metric_recall:\n",
    "#     trn_hist_click_df, trn_last_click_df = get_hist_and_last_click(all_click_df)\n",
    "# else:\n",
    "#     trn_hist_click_df = all_click_df\n",
    "\n",
    "user_recall_items_dict = collections.defaultdict(dict)\n",
    "user_item_time_dict = get_user_item_time(trn_hist_click_df)\n",
    "\n",
    "i2i_sim = pickle.load(open(save_path + 'itemcf_i2i_sim.pkl', 'rb'))\n",
    "emb_i2i_sim = pickle.load(open(save_path + 'emb_i2i_sim.pkl', 'rb'))\n",
    "\n",
    "sim_item_topk = 50\n",
    "recall_item_num = 50\n",
    "item_topk_click = get_item_topk_click(trn_hist_click_df, k=50)\n",
    "\n",
    "for user in tqdm(trn_hist_click_df['user_id'].unique()):\n",
    "    user_recall_items_dict[user] = item_based_recommend(user, user_item_time_dict, \\\n",
    "                                                        i2i_sim, sim_item_topk, recall_item_num, \\\n",
    "                                                        item_topk_click, item_created_time_dict, emb_i2i_sim)\n",
    "\n",
    "\n",
    "user_multi_recall_dict['itemcf_sim_itemcf_recall'] = user_recall_items_dict\n",
    "pickle.dump(user_multi_recall_dict['itemcf_sim_itemcf_recall'], open(save_path + 'itemcf_recall_dict.pkl', 'wb'))\n",
    "\n",
    "if metric_recall:\n",
    "    # 召回效果评估\n",
    "    metrics_recall(user_multi_recall_dict['itemcf_sim_itemcf_recall'], trn_last_click_df, topk=recall_item_num)\n",
    "# 10000\n",
    " # topk:  10  :  hit_num:  2574 hit_rate:  0.2574 user_num :  10000\n",
    " # topk:  20  :  hit_num:  3484 hit_rate:  0.3484 user_num :  10000\n",
    " # topk:  30  :  hit_num:  4004 hit_rate:  0.4004 user_num :  10000\n",
    " # topk:  40  :  hit_num:  4439 hit_rate:  0.4439 user_num :  10000\n",
    " # topk:  50  :  hit_num:  4742 hit_rate:  0.4742 user_num :  10000\n",
    "# 50000\n",
    "#  topk:  10  :  hit_num:  16819 hit_rate:  0.33638 user_num :  50000\n",
    " # topk:  20  :  hit_num:  22089 hit_rate:  0.44178 user_num :  50000\n",
    " # topk:  30  :  hit_num:  25052 hit_rate:  0.50104 user_num :  50000\n",
    " # topk:  40  :  hit_num:  27121 hit_rate:  0.54242 user_num :  50000\n",
    " # topk:  50  :  hit_num:  28619 hit_rate:  0.57238 user_num :  50000"
   ]
  },
  {
   "cell_type": "code",
   "execution_count": null,
   "id": "c3d78304-dc52-4252-a6d8-547f9629ba2e",
   "metadata": {},
   "outputs": [],
   "source": [
    "# # 不用key对query的相似度更好\n",
    "# for user in tqdm(trn_hist_click_df['user_id'].unique()):\n",
    "#     user_recall_items_dict[user] = item_based_recommend(user, user_item_time_dict, \\\n",
    "#                                                         i2i_sim, sim_item_topk, recall_item_num, \\\n",
    "#                                                         item_topk_click, item_created_time_dict, emb_i2i_sim)\n",
    "\n",
    "\n",
    "# user_multi_recall_dict['itemcf_sim_itemcf_recall'] = user_recall_items_dict\n",
    "# pickle.dump(user_multi_recall_dict['itemcf_sim_itemcf_recall'], open(save_path + 'itemcf_recall_dict.pkl', 'wb'))\n",
    "\n",
    "# if metric_recall:\n",
    "#     # 召回效果评估\n",
    "#     metrics_recall(user_multi_recall_dict['itemcf_sim_itemcf_recall'], trn_last_click_df, topk=recall_item_num)\n"
   ]
  },
  {
   "cell_type": "code",
   "execution_count": null,
   "id": "77862f34-e2a0-4da8-ac7b-b14878c9b0e2",
   "metadata": {},
   "outputs": [],
   "source": [
    "# # 完全不用 emb_i2i_sim 更好\n",
    "# i2i_sim = pickle.load(open(save_path + 'itemcf_i2i_sim.pkl', 'rb'))\n",
    "# for user in tqdm(trn_hist_click_df['user_id'].unique()):\n",
    "#     user_recall_items_dict[user] = item_based_recommend(user, user_item_time_dict, \\\n",
    "#                                                         i2i_sim, sim_item_topk, recall_item_num, \\\n",
    "#                                                         item_topk_click, item_created_time_dict, emb_i2i_sim)\n",
    "\n",
    "\n",
    "# user_multi_recall_dict['itemcf_sim_itemcf_recall'] = user_recall_items_dict\n",
    "# pickle.dump(user_multi_recall_dict['itemcf_sim_itemcf_recall'], open(save_path + 'itemcf_recall_dict.pkl', 'wb'))\n",
    "\n",
    "# if metric_recall:\n",
    "#     # 召回效果评估\n",
    "#     metrics_recall(user_multi_recall_dict['itemcf_sim_itemcf_recall'], trn_last_click_df, topk=recall_item_num)\n"
   ]
  },
  {
   "cell_type": "markdown",
   "id": "3fe4e53d-b691-463c-b0d6-07baaa804e35",
   "metadata": {},
   "source": [
    "## embedding sim 召回"
   ]
  },
  {
   "cell_type": "code",
   "execution_count": null,
   "id": "36d63c59-700a-4e02-be92-15769158fa36",
   "metadata": {},
   "outputs": [],
   "source": [
    "user_recall_items_dict = collections.defaultdict(dict)\n",
    "# user_item_time_dict = get_user_item_time(trn_hist_click_df) #上面做好了\n",
    "i2i_sim = pickle.load(open(save_path + 'emb_i2i_sim.pkl','rb')) # i2i_sim也用emb_i2i_sim\n",
    "\n",
    "sim_item_topk = 20\n",
    "recall_item_num = 10\n",
    "\n",
    "item_topk_click = get_item_topk_click(trn_hist_click_df, k=50)\n",
    "\n",
    "for user in tqdm(trn_hist_click_df['user_id'].unique()):\n",
    "    user_recall_items_dict[user] = item_based_recommend(user, user_item_time_dict, i2i_sim, sim_item_topk, \n",
    "                                                        recall_item_num, item_topk_click, item_created_time_dict, emb_i2i_sim)\n",
    "    \n",
    "user_multi_recall_dict['embedding_sim_item_recall'] = user_recall_items_dict\n",
    "pickle.dump(user_multi_recall_dict['embedding_sim_item_recall'], open(save_path + 'embedding_sim_item_recall.pkl', 'wb'))\n",
    "\n",
    "if metric_recall:\n",
    "    # 召回效果评估\n",
    "    metrics_recall(user_multi_recall_dict['embedding_sim_item_recall'], trn_last_click_df, topk=recall_item_num)"
   ]
  },
  {
   "cell_type": "markdown",
   "id": "44b3531b-5e2e-4226-b50d-85f1e1d559d6",
   "metadata": {},
   "source": [
    "# userCF召回\n",
    "计算被推荐用户历史点击文章与相似用户历史点击文章的相似度，文章创建时间差，相对位置的总和，作为各自的权重"
   ]
  },
  {
   "cell_type": "code",
   "execution_count": 30,
   "id": "12ad5cf5-7c6a-485b-8906-ecb5f6e608ad",
   "metadata": {},
   "outputs": [],
   "source": [
    "# 基于用户的召回 u2u2i\n",
    "def user_based_recommend(user_id, user_item_time_dict, u2u_sim, sim_user_topk, recall_item_num, \n",
    "                         item_topk_click, item_created_time_dict, emb_i2i_sim=None):\n",
    "    \"\"\"\n",
    "        基于文章协同过滤的召回\n",
    "        :param user_id: 用户id\n",
    "        :param user_item_time_dict: 字典, 根据点击时间获取用户的点击文章序列   {user1: {item1: time1, item2: time2..}...}\n",
    "        :param u2u_sim: 字典，文章相似性矩阵\n",
    "        :param sim_user_topk: 整数， 选择与当前用户最相似的前k个用户\n",
    "        :param recall_item_num: 整数， 最后的召回文章数量\n",
    "        :param item_topk_click: 列表，点击次数最多的文章列表，用户召回补全\n",
    "        :param item_created_time_dict: 文章创建时间列表\n",
    "        :param emb_i2i_sim: 字典基于内容embedding算的文章相似矩阵\n",
    "        \n",
    "        return: 召回的文章列表 {item1:score1, item2: score2...}\n",
    "    \"\"\"\n",
    "    # 历史交互\n",
    "    user_item_time_list = user_item_time_dict[user_id]    # {item1: time1, item2: time2...}\n",
    "    user_hist_items = set([i for i, t in user_item_time_list])   # 存在一个用户与某篇文章的多次交互， 这里得去重\n",
    "    \n",
    "    items_rank = {}\n",
    "    for sim_u, wuv in sorted(u2u_sim[user_id].items(), key=lambda x: x[1], reverse=True)[:sim_user_topk]:\n",
    "        for i, click_time in user_item_time_dict[sim_u]:  # 与user_id相似的user点过的item\n",
    "            if i in user_hist_items:\n",
    "                continue\n",
    "            items_rank.setdefault(i, 0)\n",
    "            \n",
    "            loc_weight = 1.0\n",
    "            content_weight = 1.0\n",
    "            created_time_weight = 1.0\n",
    "            \n",
    "            # 当前文章与该用户看的历史文章进行一个权重交互\n",
    "            for loc, (j, click_time) in enumerate(user_item_time_list):\n",
    "                # 点击时的相对位置权重\n",
    "                loc_weight += 0.9 ** (len(user_item_time_list) - loc)\n",
    "                # 内容相似性权重\n",
    "                # if emb_i2i_sim.get(i, {}).get(j, None) is not None:\n",
    "                #     content_weight += emb_i2i_sim[i][j]\n",
    "                # if emb_i2i_sim.get(j, {}).get(i, None) is not None:\n",
    "                #     content_weight += emb_i2i_sim[j][i]\n",
    "                \n",
    "                # 创建时间差权重\n",
    "                created_time_weight += np.exp(0.8 * np.abs(item_created_time_dict[i] - item_created_time_dict[j]))\n",
    "                \n",
    "            items_rank[i] += loc_weight * content_weight * created_time_weight * wuv\n",
    "        \n",
    "    # 热度补全\n",
    "    if len(items_rank) < recall_item_num:\n",
    "        for i, item in enumerate(item_topk_click):\n",
    "            if item in items_rank.items(): # 填充的item应该不在原来的列表中\n",
    "                continue\n",
    "            items_rank[item] = - i - 100 # 随便给个数就行\n",
    "            if len(items_rank) == recall_item_num:\n",
    "                break\n",
    "        \n",
    "    items_rank = sorted(items_rank.items(), key=lambda x: x[1], reverse=True)[:recall_item_num]    \n",
    "    \n",
    "    return items_rank\n"
   ]
  },
  {
   "cell_type": "markdown",
   "id": "68ef4138-1970-4551-a324-05b2c1d301a7",
   "metadata": {},
   "source": [
    "userCF sim召回"
   ]
  },
  {
   "cell_type": "code",
   "execution_count": 31,
   "id": "18e74db3-dbe5-41c6-9ed8-2e7f1202e76f",
   "metadata": {},
   "outputs": [
    {
     "name": "stderr",
     "output_type": "stream",
     "text": [
      "100%|██████████| 10000/10000 [05:39<00:00, 29.45it/s]\n"
     ]
    },
    {
     "name": "stdout",
     "output_type": "stream",
     "text": [
      " topk:  10  :  hit_num:  2102 hit_rate:  0.2102 user_num :  10000\n",
      " topk:  20  :  hit_num:  2833 hit_rate:  0.2833 user_num :  10000\n",
      " topk:  30  :  hit_num:  3280 hit_rate:  0.328 user_num :  10000\n",
      " topk:  40  :  hit_num:  3660 hit_rate:  0.366 user_num :  10000\n",
      " topk:  50  :  hit_num:  3952 hit_rate:  0.3952 user_num :  10000\n"
     ]
    }
   ],
   "source": [
    "# 这里是为了召回评估，所以提取最后一次点击\n",
    "# 由于usercf中计算user之间的相似度的过程太费内存了，全量数据这里就没有跑，跑了一个采样之后的数据\n",
    "# if metric_recall:\n",
    "#     trn_hist_click_df, trn_last_click_df = get_hist_and_last_click(all_click_df)\n",
    "# else:\n",
    "#     trn_hist_click_df = all_click_df\n",
    "    \n",
    "user_recall_items_dict = collections.defaultdict(dict)\n",
    "user_item_time_dict = get_user_item_time(trn_hist_click_df)\n",
    "\n",
    "u2u_sim = pickle.load(open(save_path + 'usercf_u2u_sim.pkl', 'rb'))\n",
    "\n",
    "sim_user_topk = 50\n",
    "recall_item_num = 50\n",
    "item_topk_click = get_item_topk_click(trn_hist_click_df, k=50)\n",
    "\n",
    "for user in tqdm(trn_hist_click_df['user_id'].unique()):\n",
    "    user_recall_items_dict[user] = user_based_recommend(user, user_item_time_dict, u2u_sim, sim_user_topk, \\\n",
    "                                                        recall_item_num, item_topk_click, item_created_time_dict)    \n",
    "\n",
    "pickle.dump(user_recall_items_dict, open(save_path + 'usercf_u2u2i_recall.pkl', 'wb'))\n",
    "\n",
    "if metric_recall:\n",
    "    # 召回效果评估\n",
    "    metrics_recall(user_recall_items_dict, trn_last_click_df, topk=recall_item_num)\n",
    "# usercf比itemcf效果更好 不要emb_i2i_sim更好\n",
    " # topk:  10  :  hit_num:  2102 hit_rate:  0.2102 user_num :  10000\n",
    " # topk:  20  :  hit_num:  2833 hit_rate:  0.2833 user_num :  10000\n",
    " # topk:  30  :  hit_num:  3280 hit_rate:  0.328 user_num :  10000\n",
    " # topk:  40  :  hit_num:  3660 hit_rate:  0.366 user_num :  10000\n",
    " # topk:  50  :  hit_num:  3952 hit_rate:  0.3952 user_num :  10000\n",
    "    \n",
    "# 50000\n",
    "# topk:  10  :  hit_num:  35141 hit_rate:  0.70282 user_num :  50000\n",
    "# topk:  20  :  hit_num:  37630 hit_rate:  0.7526 user_num :  50000\n",
    "# topk:  30  :  hit_num:  39083 hit_rate:  0.78166 user_num :  50000\n",
    "# topk:  40  :  hit_num:  40158 hit_rate:  0.80316 user_num :  50000\n",
    "# topk:  50  :  hit_num:  40958 hit_rate:  0.81916 user_num :  50000"
   ]
  },
  {
   "cell_type": "code",
   "execution_count": null,
   "id": "6d29cc84-fb77-4527-b0a0-98a4002ee63d",
   "metadata": {},
   "outputs": [],
   "source": [
    "# 去掉j对i的相似度\n",
    "for user in tqdm(trn_hist_click_df['user_id'].unique()):\n",
    "    user_recall_items_dict[user] = user_based_recommend(user, user_item_time_dict, u2u_sim, sim_user_topk, \\\n",
    "                                                        recall_item_num, item_topk_click, item_created_time_dict, emb_i2i_sim)    \n",
    "\n",
    "pickle.dump(user_recall_items_dict, open(save_path + 'usercf_u2u2i_recall.pkl', 'wb'))\n",
    "\n",
    "if metric_recall:\n",
    "    # 召回效果评估\n",
    "    metrics_recall(user_recall_items_dict, trn_last_click_df, topk=recall_item_num)"
   ]
  },
  {
   "cell_type": "code",
   "execution_count": null,
   "id": "a0fdafc7-359c-4fe5-8866-533772546854",
   "metadata": {},
   "outputs": [],
   "source": [
    "# 不要emb_i2i_sim\n",
    "for user in tqdm(trn_hist_click_df['user_id'].unique()):\n",
    "    user_recall_items_dict[user] = user_based_recommend(user, user_item_time_dict, u2u_sim, sim_user_topk, \\\n",
    "                                                        recall_item_num, item_topk_click, item_created_time_dict, emb_i2i_sim)    \n",
    "\n",
    "pickle.dump(user_recall_items_dict, open(save_path + 'usercf_u2u2i_recall.pkl', 'wb'))\n",
    "\n",
    "if metric_recall:\n",
    "    # 召回效果评估\n",
    "    metrics_recall(user_recall_items_dict, trn_last_click_df, topk=recall_item_num)"
   ]
  },
  {
   "cell_type": "markdown",
   "id": "23ac7f09-67aa-4200-89ab-68c0de0af4b1",
   "metadata": {},
   "source": [
    "## user embedding sim召回"
   ]
  },
  {
   "cell_type": "code",
   "execution_count": null,
   "id": "d92a0016-fdfe-4623-ab3a-ce3703255095",
   "metadata": {},
   "outputs": [],
   "source": [
    "# 使用Embedding的方式获取u2u的相似性矩阵\n",
    "# topk指的是每个user, faiss搜索后返回最相似的topk个user\n",
    "def u2u_embdding_sim(click_df, user_emb_dict, save_path, topk):\n",
    "    \n",
    "    user_list = []\n",
    "    user_emb_list = []\n",
    "    for user_id, user_emb in user_emb_dict.items():\n",
    "        user_list.append(user_id)\n",
    "        user_emb_list.append(user_emb)\n",
    "        \n",
    "    user_index_2_rawid_dict = {k: v for k, v in zip(range(len(user_list)), user_list)}    \n",
    "    \n",
    "    user_emb_np = np.array(user_emb_list, dtype=np.float32)\n",
    "    \n",
    "    # 建立faiss索引\n",
    "    user_index = faiss.IndexFlatIP(user_emb_np.shape[1])\n",
    "    user_index.add(user_emb_np)\n",
    "    # 相似度查询，给每个索引位置上的向量返回topk个item以及相似度\n",
    "    sim, idx = user_index.search(user_emb_np, topk) # 返回的是列表\n",
    "   \n",
    "    # 将向量检索的结果保存成原始id的对应关系\n",
    "    user_sim_dict = collections.defaultdict(dict)\n",
    "    for target_idx, sim_value_list, rele_idx_list in tqdm(zip(range(len(user_emb_np)), sim, idx)):\n",
    "        target_raw_id = user_index_2_rawid_dict[target_idx]\n",
    "        # 从1开始是为了去掉商品本身, 所以最终获得的相似商品只有topk-1\n",
    "        for rele_idx, sim_value in zip(rele_idx_list[1:], sim_value_list[1:]): \n",
    "            rele_raw_id = user_index_2_rawid_dict[rele_idx]\n",
    "            user_sim_dict[target_raw_id][rele_raw_id] = user_sim_dict.get(target_raw_id, {}).get(rele_raw_id, 0) + sim_value\n",
    "    \n",
    "    # 保存i2i相似度矩阵\n",
    "    pickle.dump(user_sim_dict, open(save_path + 'youtube_u2u_sim.pkl', 'wb'))   \n",
    "    return user_sim_dict\n"
   ]
  },
  {
   "cell_type": "code",
   "execution_count": null,
   "id": "fd0cd23e-b393-49c1-9876-d0cebaa69f8e",
   "metadata": {},
   "outputs": [],
   "source": [
    "# 读取YoutubeDNN过程中产生的user embedding, 然后使用faiss计算用户之间的相似度\n",
    "# 这里需要注意，这里得到的user embedding其实并不是很好，因为YoutubeDNN中使用的是用户点击序列来训练的user embedding,\n",
    "# 如果序列普遍都比较短的话，其实效果并不是很好\n",
    "user_emb_dict = pickle.load(open(save_path + 'user_youtube_emb.pkl', 'rb'))\n",
    "u2u_sim = u2u_embdding_sim(all_click_df, user_emb_dict, save_path, topk=10)"
   ]
  },
  {
   "cell_type": "code",
   "execution_count": null,
   "id": "e338e621-967b-4c13-bb49-0c3bb0d6d0aa",
   "metadata": {},
   "outputs": [],
   "source": [
    "user_recall_items_dict = collections.defaultdict(dict)\n",
    "user_item_time_dict = get_user_item_time(trn_hist_click_df)\n",
    "u2u_sim = pickle.load(open(save_path + 'youtube_u2u_sim.pkl', 'rb'))\n",
    "\n",
    "sim_user_topk = 20\n",
    "recall_item_num = 10\n",
    "\n",
    "item_topk_click = get_item_topk_click(trn_hist_click_df, k=50)\n",
    "for user in tqdm(trn_hist_click_df['user_id'].unique()):\n",
    "    user_recall_items_dict[user] = user_based_recommend(user, user_item_time_dict, u2u_sim, sim_user_topk, \\\n",
    "                                                        recall_item_num, item_topk_click, item_created_time_dict, emb_i2i_sim)\n",
    "    \n",
    "user_multi_recall_dict['youtubednn_usercf_recall'] = user_recall_items_dict\n",
    "pickle.dump(user_multi_recall_dict['youtubednn_usercf_recall'], open(save_path + 'youtubednn_usercf_recall.pkl', 'wb'))\n",
    "\n",
    "if metric_recall:\n",
    "    # 召回效果评估\n",
    "    metrics_recall(user_multi_recall_dict['youtubednn_usercf_recall'], trn_last_click_df, topk=recall_item_num)"
   ]
  },
  {
   "cell_type": "markdown",
   "id": "96b45fbc-0e78-460b-8fa3-4ff9a390bba9",
   "metadata": {},
   "source": [
    "# 冷启动问题\n",
    "日志中所有出现过的点击文章只有3w多个，而整个文章库中却有30多万，那么测试集中的用户最后一次点击是否会点击没有出现在日志中的文章呢？如果存在这种情况，说明用户点击的文章之前没有任何的交互信息，这也就是我们所说的文章冷启动。通过数据分析还可以发现，测试集用户只有一次点击的数据占得比例还不少，其实仅仅通过用户的一次点击就给用户推荐文章使用模型的方式也是比较难的，这里其实也可以考虑用户冷启动的问题，但是这里只给出物品冷启动的一些解决方案及代码，关于用户冷启动的话提一些可行性的做法。\n",
    "\n",
    "文章冷启动(没有冷启动的探索问题)\n",
    "其实我们这里不是为了做文章的冷启动而做冷启动，而是猜测用户可能会点击一些没有在log数据中出现的文章，我们要做的就是如何从将近27万的文章中选择一些文章作为用户冷启动的文章，这里其实也可以看成是一种召回策略，我们这里就采用简单的比较好理解的基于规则的召回策略来获取用户可能点击的未出现在log数据中的文章。 现在的问题变成了：如何给每个用户考虑从27万个商品中获取一小部分商品？随机选一些可能是一种方案。下面给出一些参考的\n",
    "方- 案。\n",
    "首先基于Embedding召回一部分与用户历史相似- 的文章\n",
    "从基于Embedding召回的文章中通过一些规则过滤掉一些文章，使得留下的文章用户更可能点击。我们这里的规则，可以是，留下那些与用户历史点击文章主题相同的文章，或者字数相差不大的文章。并且留下的文章尽量是与测试集用户最后一次点击时间更接近的文章，或者是当天的\n",
    "   文章也行。\n",
    "用户冷启动\n",
    "这里对测试集中的用户点击数据进行分析会发现，测试集中有百分之20的用户只有一次点击，那么这些点击特别少的用户的召回是不是可以单独做一些策略上的补充呢？或者是在排序后直接基于规则加上一些文章呢？这些都可以去尝试，这里没有提供具体的做法。"
   ]
  },
  {
   "cell_type": "code",
   "execution_count": null,
   "id": "6680e4ea-77ef-43fb-b8c2-740aadfa8adf",
   "metadata": {},
   "outputs": [],
   "source": [
    "# 先进行itemcf召回，这里不需要做召回评估，这里只是一种策略\n",
    "trn_hist_click_df = all_click_df\n",
    "\n",
    "user_recall_items_dict = collections.defaultdict(dict)\n",
    "user_item_time_dict = get_user_item_time(trn_hist_click_df)\n",
    "i2i_sim = pickle.load(open(save_path + 'emb_i2i_sim.pkl','rb'))\n",
    "\n",
    "sim_item_topk = 150\n",
    "recall_item_num = 100 # 稍微召回多一点文章，便于后续的规则筛选\n",
    "\n",
    "item_topk_click = get_item_topk_click(trn_hist_click_df, k=50)\n",
    "for user in tqdm(trn_hist_click_df['user_id'].unique()):\n",
    "    user_recall_items_dict[user] = item_based_recommend(user, user_item_time_dict, i2i_sim, sim_item_topk, \n",
    "                                                        recall_item_num, item_topk_click,item_created_time_dict, emb_i2i_sim)\n",
    "pickle.dump(user_recall_items_dict, open(save_path + 'cold_start_items_raw_dict.pkl', 'wb'))\n"
   ]
  },
  {
   "cell_type": "code",
   "execution_count": null,
   "id": "80ddbcb0-3d8a-4a87-9e9d-64baf46ad746",
   "metadata": {},
   "outputs": [],
   "source": [
    "# 基于规则进行文章过滤\n",
    "# 保留文章主题与用户历史浏览主题相似的文章\n",
    "# 保留文章字数与用户历史浏览文章字数相差不大的文章\n",
    "# 保留最后一次点击当天的文章\n",
    "# 按照相似度返回最终的结果\n",
    "\n",
    "def get_click_article_ids_set(all_click_df):\n",
    "    return set(all_click_df.click_article_id.values)\n",
    "\n",
    "def cold_start_items(user_recall_items_dict, user_hist_item_typs_dict, user_hist_item_words_dict, \\\n",
    "                     user_last_item_created_time_dict, item_type_dict, item_words_dict, \n",
    "                     item_created_time_dict, click_article_ids_set, recall_item_num):\n",
    "    \"\"\"\n",
    "        冷启动的情况下召回一些文章\n",
    "        :param user_recall_items_dict: 基于内容embedding相似性召回来的很多文章， 字典， {user1: [item1, item2, ..], }\n",
    "        :param user_hist_item_typs_dict: 字典， 用户点击的文章的主题映射\n",
    "        :param user_hist_item_words_dict: 字典， 用户点击的历史文章的字数映射\n",
    "        :param user_last_item_created_time_idct: 字典，用户点击的历史文章创建时间映射\n",
    "        :param item_tpye_idct: 字典，文章主题映射\n",
    "        :param item_words_dict: 字典，文章字数映射\n",
    "        :param item_created_time_dict: 字典， 文章创建时间映射\n",
    "        :param click_article_ids_set: 集合，用户点击过得文章, 也就是日志里面出现过的文章\n",
    "        :param recall_item_num: 召回文章的数量， 这个指的是没有出现在日志里面的文章数量\n",
    "    \"\"\"\n",
    "    \n",
    "    cold_start_user_items_dict = {}\n",
    "    for user, item_list in tqdm(user_recall_items_dict.items()):\n",
    "        cold_start_user_items_dict.setdefault(user, [])\n",
    "        for item, score in item_list:\n",
    "            # 获取历史文章信息\n",
    "            hist_item_type_set = user_hist_item_typs_dict[user]\n",
    "            hist_mean_words = user_hist_item_words_dict[user]\n",
    "            hist_last_item_created_time = user_last_item_created_time_dict[user]\n",
    "            hist_last_item_created_time = datetime.fromtimestamp(hist_last_item_created_time)\n",
    "            \n",
    "            # 获取当前召回文章的信息\n",
    "            curr_item_type = item_type_dict[item]\n",
    "            curr_item_words = item_words_dict[item]\n",
    "            curr_item_created_time = item_created_time_dict[item]\n",
    "            curr_item_created_time = datetime.fromtimestamp(curr_item_created_time)\n",
    "\n",
    "            # 首先，文章不能出现在用户的历史点击中， 然后根据文章主题，文章单词数，文章创建时间进行筛选\n",
    "            if curr_item_type not in hist_item_type_set or \\\n",
    "                item in click_article_ids_set or \\\n",
    "                abs(curr_item_words - hist_mean_words) > 200 or \\\n",
    "                abs((curr_item_created_time - hist_last_item_created_time).days) > 90: \n",
    "                continue\n",
    "                \n",
    "            cold_start_user_items_dict[user].append((item, score))      # {user1: [(item1, score1), (item2, score2)..]...}\n",
    "    \n",
    "    # 需要控制一下冷启动召回的数量\n",
    "    cold_start_user_items_dict = {k: sorted(v, key=lambda x:x[1], reverse=True)[:recall_item_num] \\\n",
    "                                  for k, v in cold_start_user_items_dict.items()}\n",
    "    \n",
    "    pickle.dump(cold_start_user_items_dict, open(save_path + 'cold_start_user_items_dict.pkl', 'wb'))\n",
    "    \n",
    "    return cold_start_user_items_dict\n"
   ]
  },
  {
   "cell_type": "code",
   "execution_count": null,
   "id": "1d519ca7-1157-48e2-b0d4-5260d7e16f70",
   "metadata": {},
   "outputs": [],
   "source": [
    "all_click_df_ = all_click_df.copy()\n",
    "all_click_df_ = all_click_df_.merge(item_info_df, how='left', on='click_article_id')\n",
    "user_hist_item_typs_dict, user_hist_item_ids_dict, user_hist_item_words_dict, user_last_item_created_time_dict = get_user_hist_item_info_dict(all_click_df_)\n",
    "click_article_ids_set = get_click_article_ids_set(all_click_df)\n",
    "# 需要注意的是\n",
    "# 这里使用了很多规则来筛选冷启动的文章，所以前面再召回的阶段就应该尽可能的多召回一些文章，否则很容易被删掉\n",
    "cold_start_user_items_dict = cold_start_items(user_recall_items_dict, user_hist_item_typs_dict, user_hist_item_words_dict, \\\n",
    "                                              user_last_item_created_time_dict, item_type_dict, item_words_dict, \\\n",
    "                                              item_created_time_dict, click_article_ids_set, recall_item_num)\n",
    "\n",
    "user_multi_recall_dict['cold_start_recall'] = cold_start_user_items_dict\n"
   ]
  },
  {
   "cell_type": "code",
   "execution_count": null,
   "id": "7ed04228-a839-4200-b35e-5dd6354d9faf",
   "metadata": {},
   "outputs": [],
   "source": [
    "def combine_recall_results(user_multi_recall_dict, weight_dict=None, topk=25):\n",
    "    final_recall_items_dict = {}\n",
    "    \n",
    "    # 对每一种召回结果按照用户进行归一化，方便后面多种召回结果，相同用户的物品之间权重相加\n",
    "    def norm_user_recall_items_sim(sorted_item_list):\n",
    "        # 如果冷启动中没有文章或者只有一篇文章，直接返回，出现这种情况的原因可能是冷启动召回的文章数量太少了，\n",
    "        # 基于规则筛选之后就没有文章了, 这里还可以做一些其他的策略性的筛选\n",
    "        if len(sorted_item_list) < 2:\n",
    "            return sorted_item_list\n",
    "        \n",
    "        min_sim = sorted_item_list[-1][1]\n",
    "        max_sim = sorted_item_list[0][1]\n",
    "        \n",
    "        norm_sorted_item_list = []\n",
    "        for item, score in sorted_item_list:\n",
    "            if max_sim > 0:\n",
    "                norm_score = 1.0 * (score - min_sim) / (max_sim - min_sim) if max_sim > min_sim else 1.0\n",
    "            else:\n",
    "                norm_score = 0.0\n",
    "            norm_sorted_item_list.append((item, norm_score))\n",
    "            \n",
    "        return norm_sorted_item_list\n",
    "    \n",
    "    print('多路召回合并...')\n",
    "    for method, user_recall_items in tqdm(user_multi_recall_dict.items()):\n",
    "        print(method + '...')\n",
    "        # 在计算最终召回结果的时候，也可以为每一种召回结果设置一个权重\n",
    "        if weight_dict == None:\n",
    "            recall_method_weight = 1\n",
    "        else:\n",
    "            recall_method_weight = weight_dict[method]\n",
    "        \n",
    "        for user_id, sorted_item_list in user_recall_items.items(): # 进行归一化\n",
    "            user_recall_items[user_id] = norm_user_recall_items_sim(sorted_item_list)\n",
    "        \n",
    "        for user_id, sorted_item_list in user_recall_items.items():\n",
    "            # print('user_id')\n",
    "            final_recall_items_dict.setdefault(user_id, {})\n",
    "            for item, score in sorted_item_list:\n",
    "                final_recall_items_dict[user_id].setdefault(item, 0)\n",
    "                final_recall_items_dict[user_id][item] += recall_method_weight * score  \n",
    "    \n",
    "    final_recall_items_dict_rank = {}\n",
    "    # 多路召回时也可以控制最终的召回数量\n",
    "    for user, recall_item_dict in final_recall_items_dict.items():\n",
    "        final_recall_items_dict_rank[user] = sorted(recall_item_dict.items(), key=lambda x: x[1], reverse=True)[:topk]\n",
    "\n",
    "    # 将多路召回后的最终结果字典保存到本地\n",
    "    pickle.dump(final_recall_items_dict, open(os.path.join(save_path, 'final_recall_items_dict.pkl'),'wb'))\n",
    "\n",
    "    return final_recall_items_dict_rank\n"
   ]
  },
  {
   "cell_type": "code",
   "execution_count": null,
   "id": "e7c737a2-9153-4d82-bc77-245706b681c9",
   "metadata": {},
   "outputs": [],
   "source": [
    "# 这里直接对多路召回的权重给了一个相同的值，其实可以根据前面召回的情况来调整参数的值\n",
    "weight_dict = {'itemcf_sim_itemcf_recall': 1.0,\n",
    "               'embedding_sim_item_recall': 0.,\n",
    "               'youtubednn_recall': 0.,\n",
    "               'youtubednn_usercf_recall': 0., \n",
    "               'cold_start_recall': 0.1}\n"
   ]
  },
  {
   "cell_type": "code",
   "execution_count": null,
   "id": "c62251c5-e85f-4da2-be34-000a425d5308",
   "metadata": {},
   "outputs": [],
   "source": [
    "# 最终合并之后每个用户召回150个商品进行排序\n",
    "final_recall_items_dict_rank = combine_recall_results(user_multi_recall_dict, weight_dict, topk=150)\n",
    "metrics_recall(final_recall_items_dict_rank, trn_last_click_df, topk=recall_item_num)"
   ]
  },
  {
   "cell_type": "code",
   "execution_count": null,
   "id": "66036a0f-ce4c-45bd-bfed-e8dde9a362a7",
   "metadata": {},
   "outputs": [],
   "source": [
    "weight_dict = {'itemcf_sim_itemcf_recall': 1.0,\n",
    "               'embedding_sim_item_recall': 0.,\n",
    "               'youtubednn_recall': 0.0,\n",
    "               'youtubednn_usercf_recall': 0., \n",
    "               'cold_start_recall': 0.6}\n",
    "final_recall_items_dict_rank = combine_recall_results(user_multi_recall_dict, weight_dict, topk=150)\n",
    "metrics_recall(final_recall_items_dict_rank, trn_last_click_df, topk=50)"
   ]
  },
  {
   "cell_type": "code",
   "execution_count": null,
   "id": "7f0474ac-a34a-4f2e-973e-0788944875d6",
   "metadata": {},
   "outputs": [],
   "source": [
    "weight_dict = {'itemcf_sim_itemcf_recall': 1.0,\n",
    "               'embedding_sim_item_recall': 0.,\n",
    "               'youtubednn_recall': 0.,\n",
    "               'youtubednn_usercf_recall': 0., \n",
    "               'cold_start_recall': 0.}\n",
    "final_recall_items_dict_rank = combine_recall_results(user_multi_recall_dict, weight_dict, topk=150)\n",
    "metrics_recall(final_recall_items_dict_rank, trn_last_click_df, topk=20)"
   ]
  },
  {
   "cell_type": "code",
   "execution_count": null,
   "id": "36150b55-49f8-42f2-b983-cb5e8f4870fb",
   "metadata": {},
   "outputs": [],
   "source": []
  }
 ],
 "metadata": {
  "kernelspec": {
   "display_name": "Python 3 (ipykernel)",
   "language": "python",
   "name": "python3"
  },
  "language_info": {
   "codemirror_mode": {
    "name": "ipython",
    "version": 3
   },
   "file_extension": ".py",
   "mimetype": "text/x-python",
   "name": "python",
   "nbconvert_exporter": "python",
   "pygments_lexer": "ipython3",
   "version": "3.10.13"
  }
 },
 "nbformat": 4,
 "nbformat_minor": 5
}
